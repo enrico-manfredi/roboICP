{
 "cells": [
  {
   "cell_type": "code",
   "execution_count": null,
   "metadata": {},
   "outputs": [],
   "source": [
    "import serial\n",
    "import time\n",
    "import matplotlib.pyplot as plt"
   ]
  },
  {
   "cell_type": "code",
   "execution_count": null,
   "metadata": {},
   "outputs": [],
   "source": [
    "if __name__ == '__main__':\n",
    "    ser = serial.Serial('COM3', 9600, timeout=1)\n",
    "    ser.flush()\n",
    "    while True:\n",
    "        ser.write('1'.encode('utf-8'))\n",
    "        line = ser.readline().decode('utf-8').rstrip()\n",
    "        print(line)\n",
    "        time.sleep(1)"
   ]
  },
  {
   "cell_type": "code",
   "execution_count": null,
   "metadata": {},
   "outputs": [],
   "source": [
    "ser = serial.Serial('COM5', 9600, timeout = 1)\n",
    "data = []\n",
    "def temperature_reading(sensorIndex:int):\n",
    "    if __name__ == '__main__':\n",
    "        ser.flush()\n",
    "        ser.write(b\"0\")\n",
    "        for i in range(10):\n",
    "            Index = str(sensorIndex)\n",
    "            ser.write(Index.encode('utf-8'))\n",
    "            time.sleep(0.5)\n",
    "            line = ser.read_until()\n",
    "            string = line.decode().strip()\n",
    "\n",
    "            try:\n",
    "                temp = int(string)\n",
    "                print(temp)\n",
    "                data.append(temp)\n",
    "            except ValueError:\n",
    "                pass\n",
    "            time.sleep(1.0)\n",
    "        ser.close()\n",
    "\n",
    "        plt.plot(data)\n",
    "        plt.xlabel('Time')\n",
    "        plt.ylabel('Temperature')\n",
    "        plt.title('heating curve')\n",
    "        plt.show()\n",
    "temperature_reading(1)      "
   ]
  },
  {
   "cell_type": "code",
   "execution_count": null,
   "metadata": {},
   "outputs": [],
   "source": [
    "ser = serial.Serial('COM5', 9600, timeout = 1)\n",
    "for i in range(100):\n",
    "    Index = str(1)\n",
    "    ser.write(Index.encode('utf-8'))\n",
    "    time.sleep(0.5)\n",
    "    line = ser.read_until()\n",
    "    string = line.decode().strip()\n",
    "    \n",
    "    try:\n",
    "        temp = int(string)\n",
    "    except ValueError:\n",
    "        pass\n",
    "    \n",
    "    print(temp)\n",
    "    time.sleep(1.0)"
   ]
  },
  {
   "cell_type": "code",
   "execution_count": null,
   "metadata": {},
   "outputs": [],
   "source": []
  }
 ],
 "metadata": {
  "kernelspec": {
   "display_name": "Python 3 (ipykernel)",
   "language": "python",
   "name": "python3"
  },
  "language_info": {
   "codemirror_mode": {
    "name": "ipython",
    "version": 3
   },
   "file_extension": ".py",
   "mimetype": "text/x-python",
   "name": "python",
   "nbconvert_exporter": "python",
   "pygments_lexer": "ipython3",
   "version": "3.9.7"
  }
 },
 "nbformat": 4,
 "nbformat_minor": 4
}
