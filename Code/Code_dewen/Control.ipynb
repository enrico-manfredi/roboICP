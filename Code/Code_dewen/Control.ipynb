{
 "cells": [
  {
   "cell_type": "code",
   "execution_count": 1,
   "metadata": {},
   "outputs": [],
   "source": [
    "import serial\n",
    "import time\n",
    "import matplotlib.pyplot as plt"
   ]
  },
  {
   "cell_type": "code",
   "execution_count": null,
   "metadata": {},
   "outputs": [],
   "source": [
    "ser_motor = serial.Serial('COM3', 9600, timeout = 1)\n",
    "data_motor = []\n",
    "def Motor_control(vialIndex:int):\n",
    "    if __name__ == '__main__':\n",
    "        ser_motor.flush()\n",
    "        ser_motor.write(b\"0\")\n",
    "        \n",
    "        Index = str(vialIndex)\n",
    "        ser_motor.write(Index.encode('utf-8'))\n",
    "        time.sleep(0.5)\n",
    "        line = ser_motor.read_until()\n",
    "        string = line.decode().strip()\n",
    "\n",
    "        try:\n",
    "            status = int(string)\n",
    "            print(status)\n",
    "            data_motor.append(status)\n",
    "        except ValueError:\n",
    "            pass\n",
    "        time.sleep(1.0)\n",
    "        ser_motor.close()\n",
    "    "
   ]
  },
  {
   "cell_type": "code",
   "execution_count": 6,
   "metadata": {},
   "outputs": [],
   "source": [
    "\n",
    "def temperature_reading(sensorIndex:int):\n",
    "    if __name__ == '__main__':\n",
    "        ser_temp.flush()\n",
    "        ser_temp.write(b\"0\")\n",
    "        for i in range(50):\n",
    "            Index = str(sensorIndex)\n",
    "            ser_temp.write(Index.encode('utf-8'))\n",
    "            time.sleep(0.5)\n",
    "            line = ser_temp.read_until()\n",
    "            string = line.decode().strip()\n",
    "\n",
    "            try:\n",
    "                temp = int(string)\n",
    "                print(temp)\n",
    "                data_temp.append(temp)\n",
    "            except ValueError:\n",
    "                pass\n",
    "            time.sleep(1.0)\n",
    "        ser_temp.close()\n",
    "\n",
    "        plt.plot(data_temp)\n",
    "        plt.xlabel('Time')\n",
    "        plt.ylabel('Temperature')\n",
    "        plt.title('heating curve')\n",
    "        plt.show()"
   ]
  },
  {
   "cell_type": "code",
   "execution_count": 7,
   "metadata": {},
   "outputs": [
    {
     "name": "stdout",
     "output_type": "stream",
     "text": [
      "24\n",
      "26\n",
      "25\n",
      "26\n",
      "28\n",
      "29\n",
      "30\n",
      "31\n",
      "31\n",
      "31\n",
      "32\n",
      "32\n",
      "32\n",
      "32\n",
      "32\n",
      "32\n",
      "32\n",
      "32\n",
      "33\n",
      "31\n",
      "31\n",
      "31\n",
      "32\n",
      "32\n",
      "32\n",
      "32\n",
      "33\n",
      "33\n",
      "33\n",
      "33\n",
      "33\n",
      "33\n",
      "33\n",
      "33\n",
      "33\n",
      "33\n",
      "33\n",
      "32\n",
      "32\n",
      "31\n",
      "31\n",
      "30\n",
      "30\n",
      "30\n",
      "29\n",
      "29\n",
      "29\n",
      "28\n",
      "28\n"
     ]
    },
    {
     "data": {
      "image/png": "[encoded data removed]",
      "text/plain": [
       "<Figure size 432x288 with 1 Axes>"
      ]
     },
     "metadata": {
      "needs_background": "light"
     },
     "output_type": "display_data"
    }
   ],
   "source": [
    "ser_temp = serial.Serial('COM3', 9600, timeout = 1)\n",
    "data_temp = []\n",
    "temperature_reading(0)"
   ]
  },
  {
   "cell_type": "code",
   "execution_count": null,
   "metadata": {},
   "outputs": [],
   "source": []
  }
 ],
 "metadata": {
  "kernelspec": {
   "display_name": "Python 3 (ipykernel)",
   "language": "python",
   "name": "python3"
  },
  "language_info": {
   "codemirror_mode": {
    "name": "ipython",
    "version": 3
   },
   "file_extension": ".py",
   "mimetype": "text/x-python",
   "name": "python",
   "nbconvert_exporter": "python",
   "pygments_lexer": "ipython3",
   "version": "3.9.7"
  }
 },
 "nbformat": 4,
 "nbformat_minor": 4
}
