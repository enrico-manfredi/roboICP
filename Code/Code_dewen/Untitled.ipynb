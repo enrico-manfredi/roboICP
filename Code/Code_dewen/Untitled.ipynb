{
 "cells": [
  {
   "cell_type": "code",
   "execution_count": 2,
   "id": "33e8bc9d",
   "metadata": {},
   "outputs": [
    {
     "name": "stdout",
     "output_type": "stream",
     "text": [
      "\n",
      "You sent me: Hello from Raspberry Pi!\n",
      "You sent me: Hello from Raspberry Pi!\n",
      "You sent me: Hello from Raspberry Pi!\n",
      "You sent me: Hello from Raspberry Pi!\n",
      "You sent me: Hello from Raspberry Pi!\n",
      "You sent me: Hello from Raspberry Pi!\n",
      "You sent me: Hello from Raspberry Pi!\n",
      "You sent me: Hello from Raspberry Pi!\n",
      "You sent me: Hello from Raspberry Pi!\n",
      "You sent me: Hello from Raspberry Pi!\n",
      "You sent me: Hello from Raspberry Pi!\n",
      "You sent me: Hello from Raspberry Pi!\n",
      "You sent me: Hello from Raspberry Pi!\n",
      "You sent me: Hello from Raspberry Pi!\n",
      "You sent me: Hello from Raspberry Pi!\n",
      "You sent me: Hello from Raspberry Pi!\n",
      "You sent me: Hello from Raspberry Pi!\n",
      "You sent me: Hello from Raspberry Pi!\n",
      "You sent me: Hello from Raspberry Pi!\n",
      "You sent me: Hello from Raspberry Pi!\n",
      "You sent me: Hello from Raspberry Pi!\n",
      "You sent me: Hello from Raspberry Pi!\n",
      "You sent me: Hello from Raspberry Pi!\n",
      "You sent me: Hello from Raspberry Pi!\n"
     ]
    },
    {
     "ename": "KeyboardInterrupt",
     "evalue": "",
     "output_type": "error",
     "traceback": [
      "\u001b[1;31m---------------------------------------------------------------------------\u001b[0m",
      "\u001b[1;31mKeyboardInterrupt\u001b[0m                         Traceback (most recent call last)",
      "\u001b[1;32m~\\AppData\\Local\\Temp/ipykernel_30592/1772839076.py\u001b[0m in \u001b[0;36m<module>\u001b[1;34m\u001b[0m\n\u001b[0;32m      8\u001b[0m         \u001b[0mline\u001b[0m \u001b[1;33m=\u001b[0m \u001b[0mser\u001b[0m\u001b[1;33m.\u001b[0m\u001b[0mreadline\u001b[0m\u001b[1;33m(\u001b[0m\u001b[1;33m)\u001b[0m\u001b[1;33m.\u001b[0m\u001b[0mdecode\u001b[0m\u001b[1;33m(\u001b[0m\u001b[1;34m'utf-8'\u001b[0m\u001b[1;33m)\u001b[0m\u001b[1;33m.\u001b[0m\u001b[0mrstrip\u001b[0m\u001b[1;33m(\u001b[0m\u001b[1;33m)\u001b[0m\u001b[1;33m\u001b[0m\u001b[1;33m\u001b[0m\u001b[0m\n\u001b[0;32m      9\u001b[0m         \u001b[0mprint\u001b[0m\u001b[1;33m(\u001b[0m\u001b[0mline\u001b[0m\u001b[1;33m)\u001b[0m\u001b[1;33m\u001b[0m\u001b[1;33m\u001b[0m\u001b[0m\n\u001b[1;32m---> 10\u001b[1;33m         \u001b[0mtime\u001b[0m\u001b[1;33m.\u001b[0m\u001b[0msleep\u001b[0m\u001b[1;33m(\u001b[0m\u001b[1;36m1\u001b[0m\u001b[1;33m)\u001b[0m\u001b[1;33m\u001b[0m\u001b[1;33m\u001b[0m\u001b[0m\n\u001b[0m",
      "\u001b[1;31mKeyboardInterrupt\u001b[0m: "
     ]
    }
   ],
   "source": [
    "import serial\n",
    "import time\n",
    "if __name__ == '__main__':\n",
    "    ser = serial.Serial('COM5', 9600, timeout=1)\n",
    "    ser.flush()\n",
    "    while True:\n",
    "        ser.write(b\"Hello from Raspberry Pi!\\n\")\n",
    "        line = ser.readline().decode('utf-8').rstrip()\n",
    "        print(line)\n",
    "        time.sleep(1)"
   ]
  },
  {
   "cell_type": "code",
   "execution_count": null,
   "id": "6c451967",
   "metadata": {},
   "outputs": [],
   "source": []
  }
 ],
 "metadata": {
  "kernelspec": {
   "display_name": "Python 3 (ipykernel)",
   "language": "python",
   "name": "python3"
  },
  "language_info": {
   "codemirror_mode": {
    "name": "ipython",
    "version": 3
   },
   "file_extension": ".py",
   "mimetype": "text/x-python",
   "name": "python",
   "nbconvert_exporter": "python",
   "pygments_lexer": "ipython3",
   "version": "3.9.7"
  }
 },
 "nbformat": 4,
 "nbformat_minor": 5
}
